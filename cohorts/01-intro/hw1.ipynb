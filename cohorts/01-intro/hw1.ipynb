{
 "cells": [
  {
   "cell_type": "markdown",
   "metadata": {},
   "source": [
    "Set up the environment\n",
    "You need to install Python, NumPy, Pandas, Matplotlib and Seaborn. For that, you can use the instructions from 06-environment.md.\n",
    "\n",
    "Q1. Pandas version\n",
    "What's the version of Pandas that you installed?\n",
    "\n",
    "You can get the version information using the __version__ field:"
   ]
  },
  {
   "cell_type": "code",
   "execution_count": 2,
   "metadata": {},
   "outputs": [
    {
     "data": {
      "text/plain": [
       "'2.2.3'"
      ]
     },
     "execution_count": 2,
     "metadata": {},
     "output_type": "execute_result"
    }
   ],
   "source": [
    "import pandas as pd\n",
    "pd.__version__"
   ]
  },
  {
   "cell_type": "markdown",
   "metadata": {},
   "source": [
    "Getting the data\n",
    "For this homework, we'll use the Laptops Price dataset. Download it from here.\n",
    "\n",
    "You can do it with wget:"
   ]
  },
  {
   "cell_type": "code",
   "execution_count": 4,
   "metadata": {},
   "outputs": [
    {
     "name": "stderr",
     "output_type": "stream",
     "text": [
      "--2024-10-01 00:01:05--  https://raw.githubusercontent.com/alexeygrigorev/datasets/master/laptops.csv\n",
      "Resolving raw.githubusercontent.com (raw.githubusercontent.com)... 185.199.109.133, 185.199.111.133, 185.199.110.133, ...\n",
      "Connecting to raw.githubusercontent.com (raw.githubusercontent.com)|185.199.109.133|:443... connected.\n",
      "HTTP request sent, awaiting response... 200 OK\n",
      "Length: 298573 (292K) [text/plain]\n",
      "Saving to: 'laptops.csv'\n",
      "\n",
      "     0K .......... .......... .......... .......... .......... 17%  804K 0s\n",
      "    50K .......... .......... .......... .......... .......... 34% 5.17M 0s\n",
      "   100K .......... .......... .......... .......... .......... 51% 1.42M 0s\n",
      "   150K .......... .......... .......... .......... .......... 68% 5.36M 0s\n",
      "   200K .......... .......... .......... .......... .......... 85% 6.45M 0s\n",
      "   250K .......... .......... .......... .......... .         100% 4.25M=0.1s\n",
      "\n",
      "2024-10-01 00:01:06 (2.15 MB/s) - 'laptops.csv' saved [298573/298573]\n",
      "\n"
     ]
    }
   ],
   "source": [
    "!wget https://raw.githubusercontent.com/alexeygrigorev/datasets/master/laptops.csv"
   ]
  },
  {
   "cell_type": "markdown",
   "metadata": {},
   "source": [
    "Q2. Records count\n",
    "How many records are in the dataset?\n",
    "\n",
    "- 12\n",
    "- 1000\n",
    "- 2160\n",
    "- 12160"
   ]
  },
  {
   "cell_type": "code",
   "execution_count": 5,
   "metadata": {},
   "outputs": [
    {
     "data": {
      "text/plain": [
       "(2160, 12)"
      ]
     },
     "execution_count": 5,
     "metadata": {},
     "output_type": "execute_result"
    }
   ],
   "source": [
    "df = pd.read_csv('laptops.csv')\n",
    "df.shape\n"
   ]
  },
  {
   "cell_type": "code",
   "execution_count": 6,
   "metadata": {},
   "outputs": [
    {
     "data": {
      "text/plain": [
       "Index(['Laptop', 'Status', 'Brand', 'Model', 'CPU', 'RAM', 'Storage',\n",
       "       'Storage type', 'GPU', 'Screen', 'Touch', 'Final Price'],\n",
       "      dtype='object')"
      ]
     },
     "execution_count": 6,
     "metadata": {},
     "output_type": "execute_result"
    }
   ],
   "source": [
    "df.columns"
   ]
  },
  {
   "cell_type": "code",
   "execution_count": 9,
   "metadata": {},
   "outputs": [
    {
     "data": {
      "text/plain": [
       "27"
      ]
     },
     "execution_count": 9,
     "metadata": {},
     "output_type": "execute_result"
    }
   ],
   "source": [
    "df['Brand'].value_counts()\n",
    "df['Brand'].nunique()\n"
   ]
  },
  {
   "cell_type": "code",
   "execution_count": 12,
   "metadata": {},
   "outputs": [
    {
     "data": {
      "text/plain": [
       "Laptop             0\n",
       "Status             0\n",
       "Brand              0\n",
       "Model              0\n",
       "CPU                0\n",
       "RAM                0\n",
       "Storage            0\n",
       "Storage type      42\n",
       "GPU             1371\n",
       "Screen             4\n",
       "Touch              0\n",
       "Final Price        0\n",
       "dtype: int64"
      ]
     },
     "execution_count": 12,
     "metadata": {},
     "output_type": "execute_result"
    }
   ],
   "source": [
    "\n",
    "missing_values = df.isnull().sum()\n",
    "missing_values"
   ]
  },
  {
   "cell_type": "code",
   "execution_count": 17,
   "metadata": {},
   "outputs": [
    {
     "name": "stdout",
     "output_type": "stream",
     "text": [
      "columns_with_missing：3\n",
      "\n",
      "Missing counts per column：\n",
      "Laptop             0\n",
      "Status             0\n",
      "Brand              0\n",
      "Model              0\n",
      "CPU                0\n",
      "RAM                0\n",
      "Storage            0\n",
      "Storage type      42\n",
      "GPU             1371\n",
      "Screen             4\n",
      "Touch              0\n",
      "Final Price        0\n",
      "dtype: int64\n"
     ]
    }
   ],
   "source": [
    "\n",
    "\n",
    "columns_with_missing = (missing_values > 0).sum()\n",
    "\n",
    "print(f\"columns_with_missing：{columns_with_missing}\")\n",
    "\n",
    "\n",
    "print(\"\\nMissing counts per column：\")\n",
    "print(missing_values)\n"
   ]
  },
  {
   "cell_type": "code",
   "execution_count": 19,
   "metadata": {},
   "outputs": [
    {
     "name": "stdout",
     "output_type": "stream",
     "text": [
      "the maximum final price of Dell notebooks in the dataset：$3936.00\n"
     ]
    }
   ],
   "source": [
    "\n",
    "dell_laptops = df[df['Brand'] == 'Dell']\n",
    "\n",
    "\n",
    "max_price_dell = dell_laptops['Final Price'].max()\n",
    "\n",
    "print(f\"the maximum final price of Dell notebooks in the dataset：${max_price_dell:.2f}\")\n",
    "\n"
   ]
  },
  {
   "cell_type": "code",
   "execution_count": 22,
   "metadata": {},
   "outputs": [
    {
     "name": "stdout",
     "output_type": "stream",
     "text": [
      "Screen mdian：15.6\n",
      "Screen mode：15.6\n",
      "new median screen value：15.6\n"
     ]
    }
   ],
   "source": [
    "\n",
    "median_screen = df['Screen'].median()\n",
    "print(f\"Screen mdian：{median_screen}\")\n",
    "\n",
    "\n",
    "mode_screen = df['Screen'].mode().iloc[0]\n",
    "print(f\"Screen mode：{mode_screen}\")\n",
    "\n",
    "\n",
    "df['Screen'] = df['Screen'].fillna(mode_screen)\n",
    "\n",
    "# 再次計算填充後的 Screen 欄位中位數\n",
    "new_median_screen = df['Screen'].median()\n",
    "print(f\"new median screen value：{new_median_screen}\")\n"
   ]
  },
  {
   "cell_type": "code",
   "execution_count": 24,
   "metadata": {},
   "outputs": [],
   "source": [
    "import numpy as np\n"
   ]
  },
  {
   "cell_type": "code",
   "execution_count": 26,
   "metadata": {},
   "outputs": [
    {
     "name": "stdout",
     "output_type": "stream",
     "text": [
      " the sum of all the elements of the w :91.29988062995815\n"
     ]
    }
   ],
   "source": [
    "\n",
    "innjoo_laptops = df[df['Brand'] == 'Innjoo']\n",
    "\n",
    "\n",
    "X = innjoo_laptops[['RAM', 'Storage', 'Screen']].values\n",
    "\n",
    "\n",
    "XTX = X.T.dot(X)\n",
    "\n",
    "\n",
    "XTX_inv = np.linalg.inv(XTX)\n",
    "\n",
    "\n",
    "y = np.array([1100, 1300, 800, 900, 1000, 1100])\n",
    "\n",
    "\n",
    "w = XTX_inv.dot(X.T).dot(y)\n",
    "\n",
    "\n",
    "w_sum = np.sum(w)\n",
    "\n",
    "print(f\" the sum of all the elements of the w :{w_sum}\")\n"
   ]
  }
 ],
 "metadata": {
  "kernelspec": {
   "display_name": "ml-zoomcamp",
   "language": "python",
   "name": "python3"
  },
  "language_info": {
   "codemirror_mode": {
    "name": "ipython",
    "version": 3
   },
   "file_extension": ".py",
   "mimetype": "text/x-python",
   "name": "python",
   "nbconvert_exporter": "python",
   "pygments_lexer": "ipython3",
   "version": "3.11.10"
  }
 },
 "nbformat": 4,
 "nbformat_minor": 2
}
